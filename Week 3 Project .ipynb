{
 "cells": [
  {
   "cell_type": "code",
   "execution_count": 9,
   "id": "0e88db45",
   "metadata": {},
   "outputs": [
    {
     "name": "stdout",
     "output_type": "stream",
     "text": [
      "Enter your purchase_price: 200000\n",
      "Enter your down_payment: 60000\n",
      "Enter your loan_interest_rate: 0.05\n",
      "Enter your loan_term: 30\n",
      "Enter your monthly_rent: 1500\n",
      "Enter your vacancy_rate: 0.1\n",
      "Enter your annual_expenses: 5000\n",
      "Enter your annual_appreciation: 0.03\n",
      "The return on investment for this property is 0.14%\n"
     ]
    }
   ],
   "source": [
    "# Define a class for rental property\n",
    "class RentalProperty:\n",
    "    # Initialize the attributes of the property\n",
    "    def __init__(self, purchase_price, down_payment, loan_interest_rate, loan_term, monthly_rent, vacancy_rate, annual_expenses, annual_appreciation):\n",
    "        self.purchase_price = purchase_price # The price of buying the property\n",
    "        self.down_payment = down_payment # The amount of money paid upfront\n",
    "        self.loan_interest_rate = loan_interest_rate # The annual interest rate of the loan\n",
    "        self.loan_term = loan_term # The number of years to repay the loan\n",
    "        self.monthly_rent = monthly_rent # The amount of money received from renting the property per month\n",
    "        self.vacancy_rate = vacancy_rate # The percentage of time the property is vacant\n",
    "        self.annual_expenses = annual_expenses # The total amount of money spent on the property per year (excluding loan payments)\n",
    "        self.annual_appreciation = annual_appreciation # The percentage of increase in the property value per year\n",
    "\n",
    "    # Define a method to calculate the monthly loan payment\n",
    "    def monthly_loan_payment(self):\n",
    "        # Use the formula: P = L[c(1 + c)^n]/[(1 + c)^n - 1]\n",
    "        # where P is the monthly payment, L is the loan amount, c is the monthly interest rate, and n is the number of payments\n",
    "        loan_amount = self.purchase_price - self.down_payment # The amount of money borrowed\n",
    "        monthly_interest_rate = self.loan_interest_rate / 12 # The interest rate per month\n",
    "        number_of_payments = self.loan_term * 12 # The total number of payments\n",
    "        monthly_payment = loan_amount * (monthly_interest_rate * (1 + monthly_interest_rate) ** number_of_payments) / ((1 + monthly_interest_rate) ** number_of_payments - 1) # The monthly payment\n",
    "        return monthly_payment\n",
    "\n",
    "    # Define a method to calculate the annual cash flow\n",
    "    def annual_cash_flow(self):\n",
    "        # Use the formula: CF = R - E - M\n",
    "        # where CF is the cash flow, R is the rental income, E is the expenses, and M is the loan payment\n",
    "        rental_income = self.monthly_rent * (1 - self.vacancy_rate) * 12 # The total amount of money received from renting the property per year\n",
    "        expenses = self.annual_expenses # The total amount of money spent on the property per year (excluding loan payments)\n",
    "        loan_payment = self.monthly_loan_payment() * 12 # The total amount of money paid for the loan per year\n",
    "        cash_flow = rental_income - expenses - loan_payment # The cash flow\n",
    "        return cash_flow\n",
    "\n",
    "    # Define a method to calculate the return on investment (ROI)\n",
    "    def return_on_investment(self):\n",
    "        # Use the formula: ROI = (CF + A) / D\n",
    "        # where ROI is the return on investment, CF is the cash flow, A is the appreciation, and D is the down payment\n",
    "        cash_flow = self.annual_cash_flow() # The cash flow\n",
    "        appreciation = self.purchase_price * self.annual_appreciation # The increase in the property value per year\n",
    "        down_payment = self.down_payment # The amount of money paid upfront\n",
    "        roi = (cash_flow + appreciation) / down_payment # The return on investment\n",
    "        return roi\n",
    "\n",
    "# Create an instance of RentalProperty with some sample values\n",
    "# purchase price represents the initial investment of the property\n",
    "purchase_price = int(input(\"Enter your purchase_price: \"))\n",
    "down_payment = int(input(\"Enter your down_payment: \"))\n",
    "loan_interest_rate = float(input(\"Enter your loan_interest_rate: \"))\n",
    "loan_term = int(input(\"Enter your loan_term: \"))\n",
    "# the rent received from the property each month\n",
    "monthly_rent = int(input(\"Enter your monthly_rent: \"))\n",
    "vacancy_rate = float(input(\"Enter your vacancy_rate: \"))\n",
    "# all the annual costs assocoated with the property\n",
    "annual_expenses = int(input(\"Enter your annual_expenses: \"))\n",
    "annual_appreciation = float(input(\"Enter your annual_appreciation: \"))\n",
    "\n",
    "#property_1 = RentalProperty(200000, 40000, 0.05, 30, 1500, 0.1, 5000, 0.03)\n",
    "property_1 = RentalProperty(purchase_price, down_payment, loan_interest_rate, loan_term, monthly_rent, vacancy_rate, annual_expenses, annual_appreciation)\n",
    "\n",
    "# Print the ROI of the property\n",
    "print(f\"The return on investment for this property is {property_1.return_on_investment():.2f}%\")\n",
    "\n",
    "\n"
   ]
  },
  {
   "cell_type": "code",
   "execution_count": null,
   "id": "a128d5c7",
   "metadata": {},
   "outputs": [],
   "source": []
  },
  {
   "cell_type": "code",
   "execution_count": null,
   "id": "8c9b3d45",
   "metadata": {},
   "outputs": [],
   "source": []
  }
 ],
 "metadata": {
  "kernelspec": {
   "display_name": "Python 3 (ipykernel)",
   "language": "python",
   "name": "python3"
  },
  "language_info": {
   "codemirror_mode": {
    "name": "ipython",
    "version": 3
   },
   "file_extension": ".py",
   "mimetype": "text/x-python",
   "name": "python",
   "nbconvert_exporter": "python",
   "pygments_lexer": "ipython3",
   "version": "3.11.4"
  }
 },
 "nbformat": 4,
 "nbformat_minor": 5
}
